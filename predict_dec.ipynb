{
  "nbformat": 4,
  "nbformat_minor": 0,
  "metadata": {
    "colab": {
      "name": "predict dec.ipynb",
      "provenance": [],
      "collapsed_sections": [],
      "include_colab_link": true
    },
    "kernelspec": {
      "name": "python3",
      "display_name": "Python 3"
    }
  },
  "cells": [
    {
      "cell_type": "markdown",
      "metadata": {
        "id": "view-in-github",
        "colab_type": "text"
      },
      "source": [
        "<a href=\"https://colab.research.google.com/github/hunterabhi/daily-1-minute-eod-data/blob/master/predict_dec.ipynb\" target=\"_parent\"><img src=\"https://colab.research.google.com/assets/colab-badge.svg\" alt=\"Open In Colab\"/></a>"
      ]
    },
    {
      "cell_type": "code",
      "metadata": {
        "id": "IowyYjy5Hzd8",
        "colab_type": "code",
        "colab": {}
      },
      "source": [
        "import pandas as pd"
      ],
      "execution_count": 0,
      "outputs": []
    },
    {
      "cell_type": "code",
      "metadata": {
        "id": "RvG64-mOIRVh",
        "colab_type": "code",
        "colab": {}
      },
      "source": [
        "a = pd.read_csv(\"https://raw.githubusercontent.com/hunterabhi/daily-1-minute-eod-data/master/20200108.csv\")\n",
        "b = pd.read_csv(\"https://raw.githubusercontent.com/hunterabhi/daily-1-minute-eod-data/master/20200110.csv\")\n",
        "merged = a.merge(b, on='Date')\n",
        "merged.to_csv(\"output.csv\", index=False)\n",
        "\n"
      ],
      "execution_count": 0,
      "outputs": []
    }
  ]
}